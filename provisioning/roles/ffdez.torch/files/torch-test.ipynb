{
 "cells": [
  {
   "cell_type": "markdown",
   "id": "00166693",
   "metadata": {},
   "source": [
    "# Comprobar que `PyTorch` está correctamente instalado\n",
    "\n",
    "Vamos a comprobar que `PyTorch` esté correctamente instalado y conectado a una GPU."
   ]
  },
  {
   "cell_type": "code",
   "execution_count": 1,
   "id": "6d2219f2",
   "metadata": {},
   "outputs": [
    {
     "name": "stdout",
     "output_type": "stream",
     "text": [
      "2.5.1+cu124\n",
      "0.20.1+cu124\n",
      "2.5.1+cu124\n"
     ]
    }
   ],
   "source": [
    "import torch, torchvision, torchaudio\n",
    "print(torch.__version__)\n",
    "print(torchvision.__version__)\n",
    "print(torchaudio.__version__)"
   ]
  },
  {
   "cell_type": "code",
   "execution_count": 2,
   "id": "952f21b1",
   "metadata": {},
   "outputs": [
    {
     "name": "stdout",
     "output_type": "stream",
     "text": [
      "1\n",
      "NVIDIA GeForce RTX 4060 Laptop GPU\n"
     ]
    }
   ],
   "source": [
    "print(torch.cuda.device_count())  # Debería devolver al menos 1 si hay GPUs disponibles.\n",
    "print(torch.cuda.get_device_name(0))  # Debería listar el nombre de tu GPU."
   ]
  },
  {
   "cell_type": "code",
   "execution_count": 7,
   "id": "c625a25b",
   "metadata": {},
   "outputs": [],
   "source": [
    "assert ValueError(\"No GPU resources available.\")"
   ]
  }
 ],
 "metadata": {
  "kernelspec": {
   "display_name": "Python 3 (ipykernel)",
   "language": "python",
   "name": "python3"
  },
  "language_info": {
   "codemirror_mode": {
    "name": "ipython",
    "version": 3
   },
   "file_extension": ".py",
   "mimetype": "text/x-python",
   "name": "python",
   "nbconvert_exporter": "python",
   "pygments_lexer": "ipython3",
   "version": "3.10.12"
  }
 },
 "nbformat": 4,
 "nbformat_minor": 5
}
