{
 "cells": [
  {
   "cell_type": "markdown",
   "id": "00166693",
   "metadata": {},
   "source": [
    "# Conectar `PySpark` con `SQL`\n",
    "\n",
    "Vamos a conectar `PySpark` a un servidor de `MySQL` y a importar la base de datos de dorus."
   ]
  },
  {
   "cell_type": "code",
   "execution_count": 1,
   "id": "8cbe8813-fdac-4556-8e4a-5d2e5ce14401",
   "metadata": {},
   "outputs": [
    {
     "data": {
      "text/html": [
       "<style>pre { white-space: pre !important; }</style>"
      ],
      "text/plain": [
       "<IPython.core.display.HTML object>"
      ]
     },
     "metadata": {},
     "output_type": "display_data"
    }
   ],
   "source": [
    "### Esto mejora la visualización de las tablas en el notebook\n",
    "from IPython.display import display, HTML\n",
    "display(HTML(\"<style>pre { white-space: pre !important; }</style>\"))"
   ]
  },
  {
   "cell_type": "code",
   "execution_count": 2,
   "id": "c988d87c",
   "metadata": {},
   "outputs": [
    {
     "data": {
      "text/html": [
       "\n",
       "            <div>\n",
       "                <p><b>SparkSession - hive</b></p>\n",
       "                \n",
       "        <div>\n",
       "            <p><b>SparkContext</b></p>\n",
       "\n",
       "            <p><a href=\"http://10.0.2.15:4040\">Spark UI</a></p>\n",
       "\n",
       "            <dl>\n",
       "              <dt>Version</dt>\n",
       "                <dd><code>v3.5.4</code></dd>\n",
       "              <dt>Master</dt>\n",
       "                <dd><code>local[*]</code></dd>\n",
       "              <dt>AppName</dt>\n",
       "                <dd><code>PySparkShell</code></dd>\n",
       "            </dl>\n",
       "        </div>\n",
       "        \n",
       "            </div>\n",
       "        "
      ],
      "text/plain": [
       "<pyspark.sql.session.SparkSession at 0x7fed54112dd0>"
      ]
     },
     "execution_count": 2,
     "metadata": {},
     "output_type": "execute_result"
    }
   ],
   "source": [
    "spark"
   ]
  },
  {
   "cell_type": "code",
   "execution_count": 3,
   "id": "aa21b12a-8045-4fa0-a120-7630647e0e45",
   "metadata": {},
   "outputs": [],
   "source": [
    "# Vamos a conectarnos a la base de datos de dorus y guardarla en un DataFrame de spark\n",
    "\n",
    "# Loading data from a JDBC source using load\n",
    "data = (spark\n",
    ".read\n",
    ".format(\"jdbc\")\n",
    ".option(\"url\", \"jdbc:mysql://localhost:3306/mysql\")\n",
    ".option(\"driver\", \"com.mysql.cj.jdbc.Driver\")\n",
    ".option(\"dbtable\", \"user\")\n",
    ".option(\"user\", \"root\")\n",
    ".option(\"password\", \"root\")\n",
    ".load())"
   ]
  },
  {
   "cell_type": "code",
   "execution_count": 4,
   "id": "07311a01-433a-4cf0-934f-92b517711b15",
   "metadata": {
    "scrolled": true
   },
   "outputs": [
    {
     "name": "stderr",
     "output_type": "stream",
     "text": [
      "24/12/31 14:00:39 WARN SparkStringUtils: Truncated the string representation of a plan since it was too large. This behavior can be adjusted by setting 'spark.sql.debug.maxToStringFields'.\n",
      "                                                                                \r"
     ]
    },
    {
     "name": "stdout",
     "output_type": "stream",
     "text": [
      "+---------------------------------------------------------------------------------------------------------------------------------------------------------------------------------------------------------------------------------------------------------------+--------------------------------+-----------+-----------+-----------+-----------+-----------+---------+-----------+-------------+------------+---------+----------+---------------+----------+----------+------------+----------+---------------------+----------------+------------+---------------+----------------+----------------+--------------+-------------------+------------------+----------------+----------+------------+----------------------+---------+----------+-----------+------------+-------------+-----------+---------------+--------------------+----------------------------------------------------------------+------------------------------------------------------------------------+----------------+---------------------+-----------------+--------------+----------------+--------------+----------------------+-------------------+------------------------+---------------+\n",
      "|Host                                                                                                                                                                                                                                                           |User                            |Select_priv|Insert_priv|Update_priv|Delete_priv|Create_priv|Drop_priv|Reload_priv|Shutdown_priv|Process_priv|File_priv|Grant_priv|References_priv|Index_priv|Alter_priv|Show_db_priv|Super_priv|Create_tmp_table_priv|Lock_tables_priv|Execute_priv|Repl_slave_priv|Repl_client_priv|Create_view_priv|Show_view_priv|Create_routine_priv|Alter_routine_priv|Create_user_priv|Event_priv|Trigger_priv|Create_tablespace_priv|ssl_type |ssl_cipher|x509_issuer|x509_subject|max_questions|max_updates|max_connections|max_user_connections|plugin                                                          |authentication_string                                                   |password_expired|password_last_changed|password_lifetime|account_locked|Create_role_priv|Drop_role_priv|Password_reuse_history|Password_reuse_time|Password_require_current|User_attributes|\n",
      "+---------------------------------------------------------------------------------------------------------------------------------------------------------------------------------------------------------------------------------------------------------------+--------------------------------+-----------+-----------+-----------+-----------+-----------+---------+-----------+-------------+------------+---------+----------+---------------+----------+----------+------------+----------+---------------------+----------------+------------+---------------+----------------+----------------+--------------+-------------------+------------------+----------------+----------+------------+----------------------+---------+----------+-----------+------------+-------------+-----------+---------------+--------------------+----------------------------------------------------------------+------------------------------------------------------------------------+----------------+---------------------+-----------------+--------------+----------------+--------------+----------------------+-------------------+------------------------+---------------+\n",
      "|127.0.0.1                                                                                                                                                                                                                                                      |root                            |Y          |Y          |Y          |Y          |Y          |Y        |Y          |Y            |Y           |Y        |Y         |Y              |Y         |Y         |Y           |Y         |Y                    |Y               |Y           |Y              |Y               |Y               |Y             |Y                  |Y                 |Y               |Y         |Y           |Y                     |         |[]        |[]         |[]          |0            |0          |0              |0                   |mysql_native_password                                           |*81F5E21E35407D884A6CD4A731AEBFB6AF209E1B                               |N               |2024-12-31 10:58:22  |NULL             |N             |Y               |Y             |NULL                  |NULL               |NULL                    |NULL           |\n",
      "|::1                                                                                                                                                                                                                                                            |root                            |Y          |Y          |Y          |Y          |Y          |Y        |Y          |Y            |Y           |Y        |Y         |Y              |Y         |Y         |Y           |Y         |Y                    |Y               |Y           |Y              |Y               |Y               |Y             |Y                  |Y                 |Y               |Y         |Y           |Y                     |         |[]        |[]         |[]          |0            |0          |0              |0                   |mysql_native_password                                           |*81F5E21E35407D884A6CD4A731AEBFB6AF209E1B                               |N               |2024-12-31 10:58:23  |NULL             |N             |Y               |Y             |NULL                  |NULL               |NULL                    |NULL           |\n",
      "|localhost                                                                                                                                                                                                                                                      |debian-sys-maint                |Y          |Y          |Y          |Y          |Y          |Y        |Y          |Y            |Y           |Y        |Y         |Y              |Y         |Y         |Y           |Y         |Y                    |Y               |Y           |Y              |Y               |Y               |Y             |Y                  |Y                 |Y               |Y         |Y           |Y                     |         |[]        |[]         |[]          |0            |0          |0              |0                   |caching_sha2_password                                           |$A$005$r\u0011\u0004+OJ^?r|^^U\u0002\\r\u001b3o\u001b\\nSaaDSTj6IX0YSGSpe54ujz61b7t12jV5D/ER0hP0YN9|N               |2024-12-31 10:57:25  |NULL             |N             |Y               |Y             |NULL                  |NULL               |NULL                    |NULL           |\n",
      "|localhost                                                                                                                                                                                                                                                      |mysql.infoschema                |Y          |N          |N          |N          |N          |N        |N          |N            |N           |N        |N         |N              |N         |N         |N           |N         |N                    |N               |N           |N              |N               |N               |N             |N                  |N                 |N               |N         |N           |N                     |         |[]        |[]         |[]          |0            |0          |0              |0                   |caching_sha2_password                                           |$A$005$THISISACOMBINATIONOFINVALIDSALTANDPASSWORDTHATMUSTNEVERBRBEUSED  |N               |2024-12-31 10:57:21  |NULL             |Y             |N               |N             |NULL                  |NULL               |NULL                    |NULL           |\n",
      "|localhost                                                                                                                                                                                                                                                      |mysql.session                   |N          |N          |N          |N          |N          |N        |N          |Y            |N           |N        |N         |N              |N         |N         |N           |Y         |N                    |N               |N           |N              |N               |N               |N             |N                  |N                 |N               |N         |N           |N                     |         |[]        |[]         |[]          |0            |0          |0              |0                   |caching_sha2_password                                           |$A$005$THISISACOMBINATIONOFINVALIDSALTANDPASSWORDTHATMUSTNEVERBRBEUSED  |N               |2024-12-31 10:57:21  |NULL             |Y             |N               |N             |NULL                  |NULL               |NULL                    |NULL           |\n",
      "|localhost                                                                                                                                                                                                                                                      |mysql.sys                       |N          |N          |N          |N          |N          |N        |N          |N            |N           |N        |N         |N              |N         |N         |N           |N         |N                    |N               |N           |N              |N               |N               |N             |N                  |N                 |N               |N         |N           |N                     |         |[]        |[]         |[]          |0            |0          |0              |0                   |caching_sha2_password                                           |$A$005$THISISACOMBINATIONOFINVALIDSALTANDPASSWORDTHATMUSTNEVERBRBEUSED  |N               |2024-12-31 10:57:21  |NULL             |Y             |N               |N             |NULL                  |NULL               |NULL                    |NULL           |\n",
      "|localhost                                                                                                                                                                                                                                                      |root                            |Y          |Y          |Y          |Y          |Y          |Y        |Y          |Y            |Y           |Y        |Y         |Y              |Y         |Y         |Y           |Y         |Y                    |Y               |Y           |Y              |Y               |Y               |Y             |Y                  |Y                 |Y               |Y         |Y           |Y                     |         |[]        |[]         |[]          |0            |0          |0              |0                   |mysql_native_password                                           |*81F5E21E35407D884A6CD4A731AEBFB6AF209E1B                               |N               |2024-12-31 10:58:25  |NULL             |N             |Y               |Y             |NULL                  |NULL               |NULL                    |NULL           |\n",
      "|ubuntu-jammy                                                                                                                                                                                                                                                   |root                            |Y          |Y          |Y          |Y          |Y          |Y        |Y          |Y            |Y           |Y        |Y         |Y              |Y         |Y         |Y           |Y         |Y                    |Y               |Y           |Y              |Y               |Y               |Y             |Y                  |Y                 |Y               |Y         |Y           |Y                     |         |[]        |[]         |[]          |0            |0          |0              |0                   |mysql_native_password                                           |*81F5E21E35407D884A6CD4A731AEBFB6AF209E1B                               |N               |2024-12-31 10:58:20  |NULL             |N             |Y               |Y             |NULL                  |NULL               |NULL                    |NULL           |\n",
      "+---------------------------------------------------------------------------------------------------------------------------------------------------------------------------------------------------------------------------------------------------------------+--------------------------------+-----------+-----------+-----------+-----------+-----------+---------+-----------+-------------+------------+---------+----------+---------------+----------+----------+------------+----------+---------------------+----------------+------------+---------------+----------------+----------------+--------------+-------------------+------------------+----------------+----------+------------+----------------------+---------+----------+-----------+------------+-------------+-----------+---------------+--------------------+----------------------------------------------------------------+------------------------------------------------------------------------+----------------+---------------------+-----------------+--------------+----------------+--------------+----------------------+-------------------+------------------------+---------------+\n",
      "\n"
     ]
    }
   ],
   "source": [
    "data.show(n=100, truncate=False)\n",
    "# truncate=False: si un campo es muy largo, lo escribe entero"
   ]
  }
 ],
 "metadata": {
  "kernelspec": {
   "display_name": "Python 3 (ipykernel)",
   "language": "python",
   "name": "python3"
  },
  "language_info": {
   "codemirror_mode": {
    "name": "ipython",
    "version": 3
   },
   "file_extension": ".py",
   "mimetype": "text/x-python",
   "name": "python",
   "nbconvert_exporter": "python",
   "pygments_lexer": "ipython3",
   "version": "3.10.12"
  }
 },
 "nbformat": 4,
 "nbformat_minor": 5
}
